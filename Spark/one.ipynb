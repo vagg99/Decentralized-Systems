{
 "cells": [
  {
   "cell_type": "code",
   "execution_count": 36,
   "metadata": {},
   "outputs": [
    {
     "name": "stdout",
     "output_type": "stream",
     "text": [
      "3.5.0\n"
     ]
    }
   ],
   "source": [
    "# Έλεγχος version pyspark .. Θέλουμε το 3.4.1\n",
    "import pyspark\n",
    "print(pyspark.__version__)"
   ]
  },
  {
   "cell_type": "markdown",
   "metadata": {},
   "source": [
    "#### _Cell 2_ Για local λύση προβλήματος. Μπορεί να παραβλεφθεί κατά την εκτέλεση του αρχείου, καθώς δεν προσφέρει πειραματικά δεδομένα."
   ]
  },
  {
   "cell_type": "code",
   "execution_count": 37,
   "metadata": {},
   "outputs": [],
   "source": [
    "# (θέλουμε τη Java 17 επειδή μόνο οι Java 8 , Java 11 και Java 17 δουλεύουν με το pyspark)\n",
    "import os\n",
    "os.environ[\"JAVA_HOME\"] = \"C:\\\\Program Files\\\\Java\\\\jdk-17\"\n",
    "os.environ[\"PATH\"] += \";C:\\\\Program Files\\\\Java\\\\jdk-17\\\\bin\""
   ]
  },
  {
   "cell_type": "code",
   "execution_count": 38,
   "metadata": {},
   "outputs": [],
   "source": [
    "from pyspark.sql import SparkSession\n",
    "import json\n",
    "from pyspark.sql.functions import col, avg, month, stddev, date_format, max, min\n",
    "from pyspark.sql.types import TimestampType, FloatType"
   ]
  },
  {
   "cell_type": "code",
   "execution_count": 39,
   "metadata": {},
   "outputs": [],
   "source": [
    "# Φτιάχνουμε ένα spark session\n",
    "spark = SparkSession.builder.appName(\"TemperatureAnalysis\").getOrCreate()"
   ]
  },
  {
   "cell_type": "code",
   "execution_count": 40,
   "metadata": {},
   "outputs": [],
   "source": [
    "# Μετατροπή των text αρχείων σε JSON μορφή για να διαβαστούν με Spark\n",
    "convert = [[\"data/tempm.txt\", \"data/tempm.json\", \"temperature\"], [\"data/hum.txt\", \"data/hum.json\" , \"humidity\"]]\n",
    "for i,j,string in convert:\n",
    "    with open(i, 'r') as _txt, open(j, 'w') as _json:\n",
    "        for line in _txt:\n",
    "            data = json.loads(line)\n",
    "            new_data = [{\"timestamp\": key, string: value} for key, value in data.items()]\n",
    "            json.dump(new_data, _json)\n",
    "            _json.write('\\n')\n",
    "\n",
    "tempm_data = spark.read.json(\"data/tempm.json\")\n",
    "hum_data = spark.read.json(\"data/hum.json\")"
   ]
  },
  {
   "cell_type": "code",
   "execution_count": 41,
   "metadata": {},
   "outputs": [],
   "source": [
    "# Με την εντολή cast της pyspark μετατρέπω το timestamp απο string σε timestampType\n",
    "tempm_data = tempm_data.withColumn(\"timestamp\", col(\"timestamp\").cast(TimestampType()))\n",
    "hum_data = hum_data.withColumn(\"timestamp\", col(\"timestamp\").cast(TimestampType()))\n",
    "\n",
    "# Με την εντολή cast της pyspark μετατρέπω τη θερμοκρασία και την υγρασία απο string σε float\n",
    "tempm_data = tempm_data.withColumn(\"temperature\", col(\"temperature\").cast(FloatType()))\n",
    "hum_data = hum_data.withColumn(\"humidity\", col(\"humidity\").cast(FloatType()))\n",
    "\n",
    "# Διαχωρισμός της ημερομηνίας από το timestamp με την εντολή cast της pyspark\n",
    "tempm_data = tempm_data.withColumn(\"date\", col(\"timestamp\").cast(\"date\"))\n",
    "hum_data = hum_data.withColumn(\"date\", col(\"timestamp\").cast(\"date\"))\n"
   ]
  },
  {
   "cell_type": "code",
   "execution_count": 42,
   "metadata": {},
   "outputs": [
    {
     "name": "stdout",
     "output_type": "stream",
     "text": [
      "+-----------+-------------------+----------+\n",
      "|temperature|          timestamp|      date|\n",
      "+-----------+-------------------+----------+\n",
      "|        3.0|2014-02-13 06:20:00|2014-02-13|\n",
      "|        7.0|2014-02-13 13:50:00|2014-02-13|\n",
      "|        2.0|2014-02-13 06:00:00|2014-02-13|\n",
      "|        3.0|2014-02-13 03:00:00|2014-02-13|\n",
      "|        6.0|2014-02-13 13:00:00|2014-02-13|\n",
      "|        4.0|2014-02-13 18:50:00|2014-02-13|\n",
      "|        6.0|2014-02-13 13:20:00|2014-02-13|\n",
      "|        6.0|2014-02-13 15:00:00|2014-02-13|\n",
      "|        4.0|2014-02-13 08:50:00|2014-02-13|\n",
      "|        4.0|2014-02-13 21:50:00|2014-02-13|\n",
      "|        3.0|2014-02-13 08:00:00|2014-02-13|\n",
      "|        3.0|2014-02-13 07:50:00|2014-02-13|\n",
      "|        4.0|2014-02-13 08:20:00|2014-02-13|\n",
      "|        3.0|2014-02-13 21:20:00|2014-02-13|\n",
      "|        6.0|2014-02-13 11:50:00|2014-02-13|\n",
      "|        6.0|2014-02-13 11:20:00|2014-02-13|\n",
      "|        5.0|2014-02-13 17:50:00|2014-02-13|\n",
      "|        6.0|2014-02-13 11:00:00|2014-02-13|\n",
      "|        2.0|2014-02-13 05:50:00|2014-02-13|\n",
      "|        3.0|2014-02-13 20:50:00|2014-02-13|\n",
      "+-----------+-------------------+----------+\n",
      "only showing top 20 rows\n",
      "\n"
     ]
    }
   ],
   "source": [
    "# Έλεγχος για το αν διαβάστηκαν σωστά τα δεδομένα Θερμοκρασίας\n",
    "tempm_data.show()"
   ]
  },
  {
   "cell_type": "code",
   "execution_count": 43,
   "metadata": {},
   "outputs": [
    {
     "name": "stdout",
     "output_type": "stream",
     "text": [
      "+--------+-------------------+----------+\n",
      "|humidity|          timestamp|      date|\n",
      "+--------+-------------------+----------+\n",
      "|    93.0|2014-02-13 06:20:00|2014-02-13|\n",
      "|    66.0|2014-02-13 13:50:00|2014-02-13|\n",
      "|    91.0|2014-02-13 06:00:00|2014-02-13|\n",
      "|    84.0|2014-02-13 03:00:00|2014-02-13|\n",
      "|    62.0|2014-02-13 13:00:00|2014-02-13|\n",
      "|    75.0|2014-02-13 18:50:00|2014-02-13|\n",
      "|    70.0|2014-02-13 13:20:00|2014-02-13|\n",
      "|    56.0|2014-02-13 15:00:00|2014-02-13|\n",
      "|    87.0|2014-02-13 08:50:00|2014-02-13|\n",
      "|    75.0|2014-02-13 21:50:00|2014-02-13|\n",
      "|    88.0|2014-02-13 08:00:00|2014-02-13|\n",
      "|    93.0|2014-02-13 07:50:00|2014-02-13|\n",
      "|    87.0|2014-02-13 08:20:00|2014-02-13|\n",
      "|    81.0|2014-02-13 21:20:00|2014-02-13|\n",
      "|    76.0|2014-02-13 11:50:00|2014-02-13|\n",
      "|    76.0|2014-02-13 11:20:00|2014-02-13|\n",
      "|    70.0|2014-02-13 17:50:00|2014-02-13|\n",
      "|    69.0|2014-02-13 11:00:00|2014-02-13|\n",
      "|    93.0|2014-02-13 05:50:00|2014-02-13|\n",
      "|    81.0|2014-02-13 20:50:00|2014-02-13|\n",
      "+--------+-------------------+----------+\n",
      "only showing top 20 rows\n",
      "\n"
     ]
    }
   ],
   "source": [
    "# Έλεγχος για το διαβάστηκαν σωστά τα δεδομένα Υγρασίας\n",
    "hum_data.show()"
   ]
  },
  {
   "cell_type": "markdown",
   "metadata": {},
   "source": [
    "# Ερώτημα 1.1"
   ]
  },
  {
   "cell_type": "code",
   "execution_count": 44,
   "metadata": {},
   "outputs": [
    {
     "name": "stdout",
     "output_type": "stream",
     "text": [
      "Αριθμός Ημερών με θερμοκρασίες μεταξύ 18 και 22 C: 26\n",
      "Συγκεκριμένα οι παρακάτω ημερομινίες είχαν θερμοκρασία μεταξύ 18 και 22 C:\n",
      "+----------+\n",
      "|date      |\n",
      "+----------+\n",
      "|2014-04-20|\n",
      "|2014-04-22|\n",
      "|2014-04-26|\n",
      "|2014-04-27|\n",
      "|2014-04-28|\n",
      "|2014-04-29|\n",
      "|2014-04-30|\n",
      "|2014-05-17|\n",
      "|2014-05-18|\n",
      "|2014-05-19|\n",
      "|2014-05-20|\n",
      "|2014-05-21|\n",
      "|2014-05-22|\n",
      "|2014-05-23|\n",
      "|2014-05-24|\n",
      "|2014-05-25|\n",
      "|2014-05-26|\n",
      "|2014-05-27|\n",
      "|2014-05-30|\n",
      "|2014-06-01|\n",
      "|2014-06-02|\n",
      "|2014-06-03|\n",
      "|2014-06-04|\n",
      "|2014-06-05|\n",
      "|2014-06-07|\n",
      "|2014-06-08|\n",
      "+----------+\n",
      "\n"
     ]
    }
   ],
   "source": [
    "# Φιλτράρισμα της θερμοκρασίας μεταξύ 18°C και 22°C\n",
    "filtered_temp = tempm_data.filter((col(\"temperature\") >= 18) & (col(\"temperature\") <= 22))\n",
    "\n",
    "# Χρήση της στήλης date για ομαδοποίηση των δεδομένων\n",
    "unique_dates = filtered_temp.select(\"date\").distinct()\n",
    "\n",
    "# Μέτρηση των διαφορετικών ημερομηνιών \n",
    "num_dates = unique_dates.count()\n",
    "\n",
    "# Εμφάνιση του συνολικού αριθμού των ημερών που η θερμοκρασία ήταν μεταξύ 18°C και 22°C\n",
    "print(\"Αριθμός Ημερών με θερμοκρασίες μεταξύ 18 και 22 C:\", num_dates)\n",
    "\n",
    "### EXTRA\n",
    " \n",
    "print(\"Συγκεκριμένα οι παρακάτω ημερομινίες είχαν θερμοκρασία μεταξύ 18 και 22 C:\")\n",
    "unique_dates.orderBy(\"date\").show(num_dates, truncate=False)\n"
   ]
  },
  {
   "cell_type": "markdown",
   "metadata": {},
   "source": [
    "# Ερώτημα 1.2"
   ]
  },
  {
   "cell_type": "markdown",
   "metadata": {},
   "source": [
    "##### Παραδοχή : Όταν λεει \"10 πιο κρύες μέρες και οι 10 πιο ζεστές μέρες\" θα μπορούσε είτε να εννοεί \"10 μέρες που περιείχαν την πιο ζεστή θερμοκρασία και 10 μέρες που περιείχαν την πιο ψυχρή\". Καταλαβαίνουμε ότι το νοήμα είναι να βρεθούν οι \"10 μέρες με τις υψηλότερες average θερμοκρασίες\", μιας και διαισθητικά στέκει περισσότερο για τον πραγματικό κόσμο. Οι μέσοι όροι της κάθες ημέρας υπολογίζονται παρακάτω:"
   ]
  },
  {
   "cell_type": "code",
   "execution_count": 45,
   "metadata": {},
   "outputs": [
    {
     "name": "stdout",
     "output_type": "stream",
     "text": [
      "Οι 10 ημέρες με την υψηλότερη μέση θερμοκρασία:\n",
      "+----------+------------------+\n",
      "|      date|   avg_temperature|\n",
      "+----------+------------------+\n",
      "|2014-05-22|              20.0|\n",
      "|2014-05-21| 17.63888888888889|\n",
      "|2014-06-08| 17.63888888888889|\n",
      "|2014-05-23|16.257142857142856|\n",
      "|2014-06-02|16.056338028169016|\n",
      "|2014-05-24|15.833333333333334|\n",
      "|2014-06-03|15.830985915492958|\n",
      "|2014-06-04|15.710144927536232|\n",
      "|2014-06-07|15.666666666666666|\n",
      "|2014-05-25|15.619718309859154|\n",
      "+----------+------------------+\n",
      "\n",
      "Οι 10 ημέρες με την χαμηλότερη μέση θερμοκρασία:\n",
      "+----------+------------------+\n",
      "|      date|   avg_temperature|\n",
      "+----------+------------------+\n",
      "|2014-03-27|2.8260869565217392|\n",
      "|2014-02-14| 3.391304347826087|\n",
      "|2014-03-02| 3.857142857142857|\n",
      "|2014-03-11|3.9027777777777777|\n",
      "|2014-03-01| 4.083333333333333|\n",
      "|2014-02-13|               4.1|\n",
      "|2014-03-03| 4.132075471698113|\n",
      "|2014-03-25| 4.152777777777778|\n",
      "|2014-03-05| 4.211267605633803|\n",
      "|2014-02-17| 4.211267605633803|\n",
      "+----------+------------------+\n",
      "\n"
     ]
    }
   ],
   "source": [
    "# Υπολογισμός μέσου όρου θερμοκρασίας για κάθε μήνα με την εντολή avg της PySpark\n",
    "daily_avg_temps = tempm_data.groupBy(\"date\").agg(avg(\"temperature\").alias(\"avg_temperature\"))\n",
    "\n",
    "# Sorting με την συνάρτηση orderBy της pyspark για να βρεθούν οι 10 ημέρες με την  \n",
    "# υψηλότερη μέση θερμοκρασία και οι 10 ημέρες με την χαμηλότερη μέση θερμοκρασία\n",
    "top_warmest_days = daily_avg_temps.orderBy(col(\"avg_temperature\").desc()).limit(10)\n",
    "top_coldest_days = daily_avg_temps.orderBy(col(\"avg_temperature\").asc()).limit(10)\n",
    "\n",
    "\n",
    "print(\"Οι 10 ημέρες με την υψηλότερη μέση θερμοκρασία:\")\n",
    "top_warmest_days.show()\n",
    "\n",
    "print(\"Οι 10 ημέρες με την χαμηλότερη μέση θερμοκρασία:\")\n",
    "top_coldest_days.show()"
   ]
  },
  {
   "cell_type": "markdown",
   "metadata": {},
   "source": [
    "# Ερώτημα 1.3"
   ]
  },
  {
   "cell_type": "code",
   "execution_count": 46,
   "metadata": {},
   "outputs": [],
   "source": [
    "# Αριθμός Μήνα σε Ελληνική Λέξη για να είναι πιο ευανάγνωστο\n",
    "def convert_to_greek_month(number):\n",
    "    return {1: 'Ιανουάριος', 2: 'Φεβρουάριος', 3: 'Μάρτιος', 4: 'Απρίλιος', 5: 'Μάιος', 6: 'Ιούνιος', 7: 'Ιούλιος', 8: 'Αύγουστος', 9: 'Σεπτέμβριος', 10: 'Οκτώβριος', 11: 'Νοέμβριος', 12: 'Δεκέμβριος'}.get(number, \"Invalid month number\")"
   ]
  },
  {
   "cell_type": "code",
   "execution_count": 47,
   "metadata": {},
   "outputs": [
    {
     "name": "stdout",
     "output_type": "stream",
     "text": [
      "Τυπική απόκλιση της υγρασίας ανά μήνα:\n",
      "+-----+------------------+\n",
      "|month|   stddev_humidity|\n",
      "+-----+------------------+\n",
      "|    6|15.060744059108561|\n",
      "|    3|15.234461545276856|\n",
      "|    5|15.967352950493565|\n",
      "|    4|17.733347100625892|\n",
      "|    2| 9.973405675315439|\n",
      "+-----+------------------+\n",
      "\n",
      "Όπως βλέπουμε, ο μήνας με την υψηλότερη τυπική απόκλιση είναι ο: Απρίλιος (δηλαδή ο 4ος μήνας)\n"
     ]
    }
   ],
   "source": [
    "# Cast του μήνα από το timestamp\n",
    "humidity_data_filtered = hum_data.withColumn(\"month\", month(\"timestamp\"))\n",
    "\n",
    "# Χρήση της εντολής stddev για να βρεθεί το standard deviation (=τυπική απόκλιση) της υγρασίας ανά μήνα\n",
    "monthly_stddev_humidity = humidity_data_filtered.groupBy(\"month\").agg(stddev(\"humidity\").alias(\"stddev_humidity\"))\n",
    "print(\"Τυπική απόκλιση της υγρασίας ανά μήνα:\")\n",
    "monthly_stddev_humidity.show()\n",
    "\n",
    "# Ποιος μήνας είχε την υψηλότερη τυπική απόκλιση;\n",
    "max_stddev_month = monthly_stddev_humidity.orderBy(col(\"stddev_humidity\").desc()).first()[\"month\"]\n",
    "\n",
    "print(f\"Όπως βλέπουμε, ο μήνας με την υψηλότερη τυπική απόκλιση είναι ο: {convert_to_greek_month(max_stddev_month)} (δηλαδή ο {max_stddev_month}ος μήνας)\")"
   ]
  },
  {
   "cell_type": "markdown",
   "metadata": {},
   "source": [
    "# Ερώτημα 1.4"
   ]
  },
  {
   "cell_type": "code",
   "execution_count": 48,
   "metadata": {},
   "outputs": [
    {
     "name": "stdout",
     "output_type": "stream",
     "text": [
      "+-------------------+-----------+----------+--------+----------+\n",
      "|          timestamp|temperature|      date|humidity|      date|\n",
      "+-------------------+-----------+----------+--------+----------+\n",
      "|2014-02-13 06:20:00|        3.0|2014-02-13|    93.0|2014-02-13|\n",
      "|2014-02-13 13:50:00|        7.0|2014-02-13|    66.0|2014-02-13|\n",
      "|2014-02-13 06:00:00|        2.0|2014-02-13|    91.0|2014-02-13|\n",
      "|2014-02-13 03:00:00|        3.0|2014-02-13|    84.0|2014-02-13|\n",
      "|2014-02-13 13:00:00|        6.0|2014-02-13|    62.0|2014-02-13|\n",
      "|2014-02-13 18:50:00|        4.0|2014-02-13|    75.0|2014-02-13|\n",
      "|2014-02-13 13:20:00|        6.0|2014-02-13|    70.0|2014-02-13|\n",
      "|2014-02-13 15:00:00|        6.0|2014-02-13|    56.0|2014-02-13|\n",
      "|2014-02-13 08:50:00|        4.0|2014-02-13|    87.0|2014-02-13|\n",
      "|2014-02-13 21:50:00|        4.0|2014-02-13|    75.0|2014-02-13|\n",
      "|2014-02-13 08:00:00|        3.0|2014-02-13|    88.0|2014-02-13|\n",
      "|2014-02-13 07:50:00|        3.0|2014-02-13|    93.0|2014-02-13|\n",
      "|2014-02-13 08:20:00|        4.0|2014-02-13|    87.0|2014-02-13|\n",
      "|2014-02-13 21:20:00|        3.0|2014-02-13|    81.0|2014-02-13|\n",
      "|2014-02-13 11:50:00|        6.0|2014-02-13|    76.0|2014-02-13|\n",
      "|2014-02-13 11:20:00|        6.0|2014-02-13|    76.0|2014-02-13|\n",
      "|2014-02-13 17:50:00|        5.0|2014-02-13|    70.0|2014-02-13|\n",
      "|2014-02-13 11:00:00|        6.0|2014-02-13|    69.0|2014-02-13|\n",
      "|2014-02-13 05:50:00|        2.0|2014-02-13|    93.0|2014-02-13|\n",
      "|2014-02-13 20:50:00|        3.0|2014-02-13|    81.0|2014-02-13|\n",
      "+-------------------+-----------+----------+--------+----------+\n",
      "only showing top 20 rows\n",
      "\n"
     ]
    }
   ],
   "source": [
    "# Ένωση των 2 dataframes με την συνάρτηση join για υπολογισμού του δείκτη δυσφορίας\n",
    "merged_data = tempm_data.join(hum_data, \"timestamp\", \"inner\")\n",
    "\n",
    "# Show the merged DataFrame\n",
    "merged_data.show()"
   ]
  },
  {
   "cell_type": "code",
   "execution_count": 49,
   "metadata": {},
   "outputs": [
    {
     "name": "stdout",
     "output_type": "stream",
     "text": [
      "+-------------------+-----------+----------+--------+----------+----------------+\n",
      "|          timestamp|temperature|      date|humidity|      date|discomfort_index|\n",
      "+-------------------+-----------+----------+--------+----------+----------------+\n",
      "|2014-02-13 06:20:00|        3.0|2014-02-13|    93.0|2014-02-13|         3.44275|\n",
      "|2014-02-13 13:50:00|        7.0|2014-02-13|    66.0|2014-02-13|          8.4025|\n",
      "|2014-02-13 06:00:00|        2.0|2014-02-13|    91.0|2014-02-13|         2.61875|\n",
      "|2014-02-13 03:00:00|        3.0|2014-02-13|    84.0|2014-02-13|           4.012|\n",
      "|2014-02-13 13:00:00|        6.0|2014-02-13|    62.0|2014-02-13|          7.7765|\n",
      "|2014-02-13 18:50:00|        4.0|2014-02-13|    75.0|2014-02-13|         5.44375|\n",
      "|2014-02-13 13:20:00|        6.0|2014-02-13|    70.0|2014-02-13|          7.4025|\n",
      "|2014-02-13 15:00:00|        6.0|2014-02-13|    56.0|2014-02-13|           8.057|\n",
      "|2014-02-13 08:50:00|        4.0|2014-02-13|    87.0|2014-02-13|         4.75075|\n",
      "|2014-02-13 21:50:00|        4.0|2014-02-13|    75.0|2014-02-13|         5.44375|\n",
      "|2014-02-13 08:00:00|        3.0|2014-02-13|    88.0|2014-02-13|           3.759|\n",
      "|2014-02-13 07:50:00|        3.0|2014-02-13|    93.0|2014-02-13|         3.44275|\n",
      "|2014-02-13 08:20:00|        4.0|2014-02-13|    87.0|2014-02-13|         4.75075|\n",
      "|2014-02-13 21:20:00|        3.0|2014-02-13|    81.0|2014-02-13|         4.20175|\n",
      "|2014-02-13 11:50:00|        6.0|2014-02-13|    76.0|2014-02-13|           7.122|\n",
      "|2014-02-13 11:20:00|        6.0|2014-02-13|    76.0|2014-02-13|           7.122|\n",
      "|2014-02-13 17:50:00|        5.0|2014-02-13|    70.0|2014-02-13|          6.5675|\n",
      "|2014-02-13 11:00:00|        6.0|2014-02-13|    69.0|2014-02-13|         7.44925|\n",
      "|2014-02-13 05:50:00|        2.0|2014-02-13|    93.0|2014-02-13|         2.48125|\n",
      "|2014-02-13 20:50:00|        3.0|2014-02-13|    81.0|2014-02-13|         4.20175|\n",
      "+-------------------+-----------+----------+--------+----------+----------------+\n",
      "only showing top 20 rows\n",
      "\n"
     ]
    }
   ],
   "source": [
    "# Τύπος υπολογισμού δείκτη δυσφορίας\n",
    "# Με τον τύπο \n",
    "# DI = T - 0.55 * ( 1 - 0.01 * RH ) * ( T - 14.5 )\n",
    "temperature_humidity_data = merged_data.withColumn(\n",
    "    \"discomfort_index\",\n",
    "    col(\"temperature\") - 0.55 * (1 - 0.01 * col(\"humidity\")) * (col(\"temperature\") - 14.5)\n",
    ")\n",
    "\n",
    "# Μετατροπή του string σε float\n",
    "temperature_humidity_data = temperature_humidity_data.withColumn(\"discomfort_index\", col(\"discomfort_index\").cast(\"float\"))\n",
    "\n",
    "# Εμφάνιση τον δείκτη δυσφορίας όπως υπολογίστηκε για κάθε timestamp\n",
    "temperature_humidity_data.show()"
   ]
  },
  {
   "cell_type": "code",
   "execution_count": 50,
   "metadata": {},
   "outputs": [
    {
     "name": "stdout",
     "output_type": "stream",
     "text": [
      "Η μέγιστη τιμή δυσφορίας είναι: 22.112499237060547 και εμφανίζεται στην ημερομινία: 2014-05-22 14:20:00\n",
      "Η ελάχιστη τιμή δυσφορίας είναι: -2.3262500762939453 και εμφανίζεται στην ημερομινία: 2014-03-11 07:20:00\n"
     ]
    }
   ],
   "source": [
    "# Μετά είναι απλό να υπολογιστεί η μέγιστη και ελάχιστη τιμή δυσφορίας κάνοντας\n",
    "# χρήση των built-in εντολών max και min της PySpark\n",
    "max_discomfort_index = temperature_humidity_data.agg(max(\"discomfort_index\").alias(\"max_discomfort_index\")).first()[\"max_discomfort_index\"]\n",
    "min_discomfort_index = temperature_humidity_data.agg(min(\"discomfort_index\").alias(\"min_discomfort_index\")).first()[\"min_discomfort_index\"]\n",
    "\n",
    "### EXTRA ###\n",
    "\n",
    "# Κάνουμε αναζήτηση για να βρούμε σε ποια ημερομηνία εμφανίζεται η μέγιστη \n",
    "# και η ελάχιστη τιμή δυσφορίας, παρόλο που δε ζητάται από την εκφώνηση\n",
    "date_with_max_discomfort = temperature_humidity_data.filter(col(\"discomfort_index\") == max_discomfort_index).select(\"timestamp\", \"discomfort_index\").first()\n",
    "date_with_min_discomfort = temperature_humidity_data.filter(col(\"discomfort_index\") == min_discomfort_index).select(\"timestamp\", \"discomfort_index\").first()\n",
    "\n",
    "print(f\"Η μέγιστη τιμή δυσφορίας είναι: {max_discomfort_index} και εμφανίζεται στην ημερομινία: {date_with_max_discomfort['timestamp']}\")\n",
    "print(f\"Η ελάχιστη τιμή δυσφορίας είναι: {min_discomfort_index} και εμφανίζεται στην ημερομινία: {date_with_min_discomfort['timestamp']}\")"
   ]
  },
  {
   "cell_type": "markdown",
   "metadata": {},
   "source": [
    "### __*EXTRA*__: Οπτικοποίηση και σύνοψη των αποτελεσμάτων"
   ]
  },
  {
   "cell_type": "code",
   "execution_count": 51,
   "metadata": {},
   "outputs": [],
   "source": [
    "import matplotlib.pyplot as plt\n",
    "import pandas as pd\n",
    "import numpy as np"
   ]
  },
  {
   "cell_type": "code",
   "execution_count": 52,
   "metadata": {},
   "outputs": [
    {
     "data": {
      "image/png": "[encoded data removed]",
      "text/plain": [
       "<Figure size 640x480 with 1 Axes>"
      ]
     },
     "metadata": {},
     "output_type": "display_data"
    }
   ],
   "source": [
    "#Για ερώτημα 1.3\n",
    "\n",
    "# Προετοιμασία των δεδομένων για το γράφημα\n",
    "monthly_stddev_humidity_df = monthly_stddev_humidity.toPandas()\n",
    "monthly_stddev_humidity_df[\"month\"] = monthly_stddev_humidity_df[\"month\"].apply(convert_to_greek_month)\n",
    "monthly_stddev_humidity_df = monthly_stddev_humidity_df.set_index(\"month\")\n",
    "\n",
    "# Εμφάνιση του γραφήματος\n",
    "monthly_stddev_humidity_df.plot(kind=\"bar\", title=\"Τυπική Απόκλιση Υγρασίας ανά Μήνα\", ylabel=\"Τυπική Απόκλιση\", xlabel=\"Μήνας\")\n",
    "plt.show()"
   ]
  },
  {
   "cell_type": "code",
   "execution_count": 53,
   "metadata": {},
   "outputs": [
    {
     "data": {
      "image/png": "[encoded data removed]",
      "text/plain": [
       "<Figure size 640x480 with 1 Axes>"
      ]
     },
     "metadata": {},
     "output_type": "display_data"
    }
   ],
   "source": [
    "# Προετοιμασία των δεδομένων για το γράφημα\n",
    "daily_avg_temps_df = daily_avg_temps.toPandas()\n",
    "daily_avg_temps_df[\"date\"] = pd.to_datetime(daily_avg_temps_df[\"date\"])\n",
    "daily_avg_temps_df = daily_avg_temps_df.set_index(\"date\")\n",
    "\n",
    "# Εμφάνιση του γραφήματος\n",
    "daily_avg_temps_df.plot(kind=\"line\", title=\"Μέση Θερμοκρασία ανά Ημέρα\", ylabel=\"Μέση Θερμοκρασία\", xlabel=\"Ημέρα\")\n",
    "plt.show()"
   ]
  },
  {
   "cell_type": "code",
   "execution_count": 54,
   "metadata": {},
   "outputs": [],
   "source": [
    "# Κλείσιμο του spark session\n",
    "spark.stop()"
   ]
  }
 ],
 "metadata": {
  "kernelspec": {
   "display_name": "Python 3",
   "language": "python",
   "name": "python3"
  },
  "language_info": {
   "codemirror_mode": {
    "name": "ipython",
    "version": 3
   },
   "file_extension": ".py",
   "mimetype": "text/x-python",
   "name": "python",
   "nbconvert_exporter": "python",
   "pygments_lexer": "ipython3",
   "version": "3.11.2"
  }
 },
 "nbformat": 4,
 "nbformat_minor": 2
}
